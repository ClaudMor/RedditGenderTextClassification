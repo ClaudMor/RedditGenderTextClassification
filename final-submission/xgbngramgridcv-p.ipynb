{
 "cells": [
  {
   "cell_type": "code",
   "execution_count": 2,
   "metadata": {},
   "outputs": [
    {
     "name": "stdout",
     "output_type": "stream",
     "text": [
      "imports done, countovectorizing...\n",
      "1\n",
      "(5000, 2000)\n",
      "2\n",
      "3\n",
      "4\n",
      "(5000, 1960)\n",
      "5\n",
      "done, plotting....\n"
     ]
    },
    {
     "data": {
      "image/png": "[encoded data removed]",
      "text/plain": [
       "<Figure size 576x576 with 1 Axes>"
      ]
     },
     "metadata": {
      "needs_background": "light"
     },
     "output_type": "display_data"
    },
    {
     "name": "stdout",
     "output_type": "stream",
     "text": [
      "Fitting 10 folds for each of 32 candidates, totalling 320 fits\n"
     ]
    },
    {
     "name": "stderr",
     "output_type": "stream",
     "text": [
      "[Parallel(n_jobs=-1)]: Using backend LokyBackend with 2 concurrent workers.\n",
      "[Parallel(n_jobs=-1)]: Done  46 tasks      | elapsed: 24.1min\n",
      "[Parallel(n_jobs=-1)]: Done 196 tasks      | elapsed: 105.6min\n",
      "[Parallel(n_jobs=-1)]: Done 320 out of 320 | elapsed: 172.3min finished\n"
     ]
    },
    {
     "name": "stdout",
     "output_type": "stream",
     "text": [
      "xgbCLf.best_score =  0.8425215483825477\n",
      "xgbCLf.best_estimator_ =  XGBRegressor(base_score=0.5, booster=None, colsample_bylevel=1,\n",
      "             colsample_bynode=1, colsample_bytree=0.6, gamma=0.8, gpu_id=0,\n",
      "             importance_type='gain', interaction_constraints=None,\n",
      "             learning_rate=0.300000012, max_delta_step=0, max_depth=4,\n",
      "             min_child_weight=1, missing=nan, monotone_constraints=None,\n",
      "             n_estimators=10000, n_jobs=0, num_parallel_tree=1,\n",
      "             objective='reg:logistic', random_state=0, reg_alpha=0,\n",
      "             reg_lambda=1, scale_pos_weight=1, subsample=0.9,\n",
      "             tree_method='gpu_hist', validate_parameters=False, verbosity=None)\n",
      "CPU times: user 1min, sys: 14.5 s, total: 1min 14s\n",
      "Wall time: 2h 53min 29s\n"
     ]
    }
   ],
   "source": [
    "%%time\n",
    "\n",
    "import pickle\n",
    "from xgboost import XGBRegressor\n",
    "from sklearn.model_selection import KFold\n",
    "from sklearn.model_selection import cross_val_score\n",
    "from sklearn.model_selection import RandomizedSearchCV, GridSearchCV\n",
    "from sklearn.model_selection import StratifiedKFold\n",
    "from sklearn.metrics import roc_auc_score\n",
    "from sklearn.feature_extraction.text import CountVectorizer\n",
    "import numpy as np\n",
    "import matplotlib\n",
    "import matplotlib.pyplot as plt\n",
    "import matplotlib.patches as mpatches\n",
    "import joblib\n",
    " \n",
    "    \n",
    "# load preprocessed data to save tine\n",
    "with open(\"../input/challengedadata/comments.txt\", \"rb\") as f:\n",
    "    clean_train_comments = pickle.load(f) \n",
    "    f.close()\n",
    "\n",
    "with open(\"../input/challengedadata/targets.txt\", \"rb\") as ft:\n",
    "    y = pickle.load(ft) \n",
    "    ft.close()\n",
    "    \n",
    "print(\"imports done, countovectorizing...\")\n",
    "\n",
    "vectorizer = CountVectorizer(analyzer = \"word\",\n",
    "                             max_features = 2000, ngram_range=(1, 2)) \n",
    "# converts in np array\n",
    "train_data_features = vectorizer.fit_transform(clean_train_comments).toarray()\n",
    "\n",
    "print(\"1\")\n",
    "print(train_data_features.shape)\n",
    "# print vocabulary \n",
    "print(\"2\")\n",
    "vocab = vectorizer.get_feature_names()\n",
    "\n",
    "print(\"3\")\n",
    "# counts how many times a word appearco\n",
    "dist = np.sum(train_data_features, axis=0)\n",
    "\n",
    "print(\"4\")\n",
    "    # removes the 40 most utilized words\n",
    "for _ in range(40):\n",
    "    index = np.argmax(dist)\n",
    "    train_data_features = np.delete(train_data_features, index, axis = 1)\n",
    "    \n",
    "print(train_data_features.shape)\n",
    "\n",
    "# np array\n",
    "X_len = [[len(x)] for x in train_data_features] \n",
    "print(\"5\")\n",
    "s = np.concatenate((train_data_features,np.array(X_len)),axis = 1)\n",
    "\n",
    "# 5000 rows (one per author),  and 2000-40+1 (X_len) features\n",
    "s.shape\n",
    "\n",
    "# un np.array\n",
    "y = np.array(y)    \n",
    "    \n",
    "print(\"done, plotting....\")\n",
    "\n",
    "\n",
    "# plot along the two dimensions with most variance\n",
    "\n",
    "def plot_LSA(test_data, test_labels, savepath=\"PCA_demo.csv\", plot=True):\n",
    "        lsa = TruncatedSVD(n_components=2)\n",
    "        lsa.fit(test_data)\n",
    "        lsa_scores = lsa.transform(test_data)\n",
    "        color_mapper = {label:idx for idx,label in enumerate(set(test_labels))}\n",
    "        color_column = [color_mapper[label] for label in test_labels]\n",
    "        colors = ['orange','blue']\n",
    "        if plot:\n",
    "            plt.scatter(lsa_scores[:,0], lsa_scores[:,1], s=8, alpha=.8, c=test_labels, cmap=matplotlib.colors.ListedColormap(colors))\n",
    "            orange_patch = mpatches.Patch(color='orange', label='M')\n",
    "            blue_patch = mpatches.Patch(color='blue', label='F')\n",
    "            plt.legend(handles=[orange_patch, blue_patch], prop={'size': 20})\n",
    "            plt.title('BOW + lenght comments only')\n",
    "            plt.savefig('foo.pdf')\n",
    "\n",
    "fig = plt.figure(figsize=(8, 8))          \n",
    "plot_LSA(train_data_features, y)\n",
    "plt.show()    \n",
    "    \n",
    "\n",
    "parameters = {\"learning_rate\":[0.03,0.05,0.07,0.01,0.15,0.2,0.25,0.3],'min_child_weight': [1,4,5,8],'gamma': [0.0, 0.1,0.2, 0.3,0.4,0.5,0.6,0.8],\n",
    "               'subsample': [0.6,0.7,0.8,0.9,1], 'colsample_bytree': [0.3,0.4,0.5, 0.6,0.7,0.8,0.9,1],\n",
    "               'max_depth': [2,3,4,5,6,7,8,10,12,15], 'scale_pos_weight': [1,2.70, 10, 25, 50, 75, 100, 1000] }\n",
    "\n",
    "parameters0 = {'min_child_weight': [1,8],'gamma': [0.6,0.8],\n",
    "               'subsample': [0.9], 'colsample_bytree': [0.6],\n",
    "               'max_depth': [4], 'scale_pos_weight': [1,2.70, 10, 25, 50, 75, 100, 1000] }\n",
    "\n",
    "    \n",
    "xgb = XGBRegressor(objective = \"reg:logistic\", n_estimators=10000, \n",
    "                 tree_method = \"gpu_hist\", gpu_id = 0)\n",
    "\n",
    "\n",
    "# Model exploration\n",
    "xgbClf = GridSearchCV(xgb, param_grid = parameters0, cv = StratifiedKFold(n_splits=10, shuffle = True, random_state = 1001), scoring = \"roc_auc\" ,verbose=True, n_jobs=-1)\n",
    "\n",
    "# Model fit\n",
    "xgbClf.fit(s, y, verbose=False)\n",
    "\n",
    "# Save model\n",
    "joblib.dump(xgbClf, '../working/xgbClf.pkl')\n",
    "\n",
    "print(\"xgbCLf.best_score = \", xgbClf.best_score_)\n",
    "print(\"xgbCLf.best_estimator_ = \", xgbClf.best_estimator_)"
   ]
  }
 ],
 "metadata": {
  "kernelspec": {
   "display_name": "Python 3",
   "language": "python",
   "name": "python3"
  },
  "language_info": {
   "codemirror_mode": {
    "name": "ipython",
    "version": 3
   },
   "file_extension": ".py",
   "mimetype": "text/x-python",
   "name": "python",
   "nbconvert_exporter": "python",
   "pygments_lexer": "ipython3",
   "version": "3.7.7"
  }
 },
 "nbformat": 4,
 "nbformat_minor": 4
}
